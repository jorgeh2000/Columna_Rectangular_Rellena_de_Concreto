{
  "cells": [
    {
      "cell_type": "markdown",
      "metadata": {
        "id": "view-in-github",
        "colab_type": "text"
      },
      "source": [
        "<a href=\"https://colab.research.google.com/github/jorgeh2000/Columna_Rectangular_Rellena_de_Concreto/blob/main/DESARROLLO_DE_CONEXION_PRECALIFICADA_Copy1.ipynb\" target=\"_parent\"><img src=\"https://colab.research.google.com/assets/colab-badge.svg\" alt=\"Open In Colab\"/></a>"
      ]
    },
    {
      "cell_type": "markdown",
      "id": "c82c3236",
      "metadata": {
        "id": "c82c3236"
      },
      "source": [
        "# CONEXION PRECALIFICADA COLUMNA RELLENA DE CONCRETO VIGA METALICA CON ENDD PLATE"
      ]
    },
    {
      "cell_type": "markdown",
      "id": "842216e7",
      "metadata": {
        "id": "842216e7"
      },
      "source": [
        "## LIBRERIAS"
      ]
    },
    {
      "cell_type": "markdown",
      "id": "79016907",
      "metadata": {
        "id": "79016907"
      },
      "source": [
        "## Cargar librerias"
      ]
    },
    {
      "cell_type": "code",
      "execution_count": null,
      "id": "7810f2de",
      "metadata": {
        "id": "7810f2de"
      },
      "outputs": [],
      "source": [
        "from google.colab import files\n",
        "import numpy as np\n",
        "import math"
      ]
    },
    {
      "cell_type": "code",
      "execution_count": null,
      "id": "e436e0f7",
      "metadata": {
        "id": "e436e0f7"
      },
      "outputs": [],
      "source": [
        "Fyb=352 # En MPa\n",
        "Fub=455 # En MPa\n",
        "Ryb=1.1\n",
        "Zxb=3676 # En mm3\n",
        "t_fb= 19.6 # En mm de tabla 42 AISC 358 E4\n",
        "b_fb=229 #En mm de tabla 42 AISC 358 E4\n",
        "d_b= 612 # En mm de tabla 42 AISC 358 E4\n",
        "tp=38.1 # En mm de tabla 42 AISC 358 E4\n",
        "b_p=260 # En mm de tabla 42 AISC 358 E4\n",
        "g=120 # En mm de tabla 42 AISC 358 E4\n",
        "P_fi=60 # En mm de tabla 42 AISC 358 E4\n",
        "P_fio=60 # En mm de tabla 42 AISC 358 E4"
      ]
    },
    {
      "cell_type": "markdown",
      "id": "1d1937a1",
      "metadata": {
        "id": "1d1937a1"
      },
      "source": [
        "### Datos Columna"
      ]
    },
    {
      "cell_type": "code",
      "execution_count": null,
      "id": "49232bd3",
      "metadata": {
        "id": "49232bd3"
      },
      "outputs": [],
      "source": [
        "d_c=450 #En milimetros es el ancho de la columna\n",
        "H=3750 #En milimetros la altura de la columna\n",
        "M_pcc=2101  #Resistencia nominal de la columna en seccion compuesta en KN.m\n",
        "t_fc=22 #En milimetros es el espesor de la columna\n",
        "F_uc=455 # Fu de la columna en MPa"
      ]
    },
    {
      "cell_type": "markdown",
      "id": "790c438d",
      "metadata": {
        "id": "790c438d"
      },
      "source": [
        "### Datos conexion"
      ]
    },
    {
      "cell_type": "code",
      "execution_count": null,
      "id": "33790fdd",
      "metadata": {
        "id": "33790fdd"
      },
      "outputs": [],
      "source": [
        "F_nt=860 # En MPa es la resistencia del perno\n",
        "h_o=662.2 # En mm es la distancia de la aleta inferior de la viga a la fila superior de pernos\n",
        "h_1=522.6 # En mm es la distancia de la aleta inferior de la viga a la fila inferior de pernos\n",
        "F_yp=352 # En MPa es la resistencia del end plate\n",
        "t_p=38.1 # En mm es el espedsor del endplate\n",
        "d_breqerido= 38.1 # En mm es el diametro del perno que calculo en fila 64\n",
        "F_up=455 # En MPa es el Fu del endplate\n",
        "n_b=4 #Numero de pernos\n",
        "F_nv=455 #Resistencia a corte del perno en MPa\n",
        "n_i=2 # Numero de pernos interiores\n",
        "n_0=2 # Numero de pernos exteriores\n",
        "d_e=60 #En mm es la distancia del centro del perno al borde de la placa"
      ]
    },
    {
      "cell_type": "markdown",
      "id": "0faa6d16",
      "metadata": {
        "id": "0faa6d16"
      },
      "source": [
        "### Paso 1 determinar Cpr"
      ]
    },
    {
      "cell_type": "markdown",
      "id": "0ecb2b38",
      "metadata": {
        "id": "0ecb2b38"
      },
      "source": [
        "$C_{pr}=\\frac{F_{u}+F_{y}}{2*F_{y}}$"
      ]
    },
    {
      "cell_type": "markdown",
      "id": "5ad8a3aa",
      "metadata": {
        "id": "5ad8a3aa"
      },
      "source": [
        "\n",
        "\n",
        "---\n",
        "\n"
      ]
    },
    {
      "cell_type": "code",
      "source": [],
      "metadata": {
        "id": "sE0Z2WRmuDsD"
      },
      "id": "sE0Z2WRmuDsD",
      "execution_count": null,
      "outputs": []
    },
    {
      "cell_type": "code",
      "source": [],
      "metadata": {
        "id": "Rziez1MCuDND"
      },
      "id": "Rziez1MCuDND",
      "execution_count": null,
      "outputs": []
    },
    {
      "cell_type": "code",
      "execution_count": null,
      "id": "3ce7d938",
      "metadata": {
        "id": "3ce7d938"
      },
      "outputs": [],
      "source": [
        "Cpr=min((Fyb+Fub)/(2*Fyb),1.2)\n",
        "Mpr=Cpr*Ryb*Zxb*Fyb\n",
        "h_1=d_b-1.5*t_fb-P_fi\n",
        "h_0=d_b-(t_fb*0.5)+P_fio"
      ]
    },
    {
      "cell_type": "markdown",
      "id": "33518631",
      "metadata": {
        "id": "33518631"
      },
      "source": [
        "## Paso 2 Calcular el cortante plastico en la ubicacion de la rotula plastica"
      ]
    },
    {
      "cell_type": "markdown",
      "id": "3efd4142",
      "metadata": {
        "id": "3efd4142"
      },
      "source": [
        "En la Tabla 42, se muestran las limitaciones y los parámetros geométricos escogidos de la conexión precalificada correspondiente a la conexión, Cuatro Pernos sin Rigidizador (4E)."
      ]
    },
    {
      "cell_type": "markdown",
      "id": "05ec3ff4",
      "metadata": {
        "id": "05ec3ff4"
      },
      "source": [
        "#<img src='Tabla 42.PNG'>\n"
      ]
    },
    {
      "cell_type": "code",
      "source": [
        "files.upload(\"Tabla 42.PNG\")"
      ],
      "metadata": {
        "colab": {
          "base_uri": "https://localhost:8080/",
          "height": 141
        },
        "id": "2DOWI3CVLXTT",
        "outputId": "68f17cb5-6fed-43a7-ea02-0b87f551c5ac"
      },
      "id": "2DOWI3CVLXTT",
      "execution_count": null,
      "outputs": [
        {
          "output_type": "error",
          "ename": "TypeError",
          "evalue": "upload() takes 0 positional arguments but 1 was given",
          "traceback": [
            "\u001b[0;31m---------------------------------------------------------------------------\u001b[0m",
            "\u001b[0;31mTypeError\u001b[0m                                 Traceback (most recent call last)",
            "\u001b[0;32m<ipython-input-6-45cf0d07d957>\u001b[0m in \u001b[0;36m<cell line: 1>\u001b[0;34m()\u001b[0m\n\u001b[0;32m----> 1\u001b[0;31m \u001b[0mfiles\u001b[0m\u001b[0;34m.\u001b[0m\u001b[0mupload\u001b[0m\u001b[0;34m(\u001b[0m\u001b[0;34m\"Tabla 42.PNG\"\u001b[0m\u001b[0;34m)\u001b[0m\u001b[0;34m\u001b[0m\u001b[0;34m\u001b[0m\u001b[0m\n\u001b[0m",
            "\u001b[0;31mTypeError\u001b[0m: upload() takes 0 positional arguments but 1 was given"
          ]
        }
      ]
    },
    {
      "cell_type": "markdown",
      "id": "be4ce53c",
      "metadata": {
        "id": "be4ce53c"
      },
      "source": [
        "<img src='Geometria de la conexion.PNG'>"
      ]
    },
    {
      "cell_type": "markdown",
      "id": "8ff75860",
      "metadata": {
        "id": "8ff75860"
      },
      "source": [
        "V_g Es la fuerza en la rotula pstica, debido a las cargas de gravedad mayoradas\n",
        "por la combinacion 1.2(D+SD)+0.5LL"
      ]
    },
    {
      "cell_type": "markdown",
      "id": "0f21d55c",
      "metadata": {
        "id": "0f21d55c"
      },
      "source": [
        "Usando las dimensiones asignadas, se calcula a continuación:"
      ]
    },
    {
      "cell_type": "markdown",
      "id": "2a2929ec",
      "metadata": {
        "id": "2a2929ec"
      },
      "source": [
        "$h_1=d_b-1.5*t_{fb}-p_{fi}$"
      ]
    },
    {
      "cell_type": "markdown",
      "id": "68dc02cf",
      "metadata": {
        "id": "68dc02cf"
      },
      "source": [
        "$h_0=d_b-\\frac {t_{fb}}2+p_{f0}$"
      ]
    },
    {
      "cell_type": "code",
      "execution_count": null,
      "id": "c29fe6a0",
      "metadata": {
        "id": "c29fe6a0"
      },
      "outputs": [],
      "source": [
        "L=7500 #Longitud de la viga en mmtomada de nudo a nudo\n",
        "V_g=177.52 # En kN"
      ]
    },
    {
      "cell_type": "markdown",
      "id": "34b59da3",
      "metadata": {
        "id": "34b59da3"
      },
      "source": [
        "$L_h=L-2*\\frac{d_c}2-2*s_h$"
      ]
    },
    {
      "cell_type": "code",
      "execution_count": null,
      "id": "a47f76fd",
      "metadata": {
        "id": "a47f76fd"
      },
      "outputs": [],
      "source": [
        "S_h=min(d_b/2,3*b_fb)\n",
        "L_h=L-2*(d_c/2)-2*S_h\n",
        "V_u=(2*Mpr/L_h)+V_g"
      ]
    },
    {
      "cell_type": "markdown",
      "id": "29f5836a",
      "metadata": {
        "id": "29f5836a"
      },
      "source": [
        "## Paso 3"
      ]
    },
    {
      "cell_type": "markdown",
      "id": "407535dd",
      "metadata": {
        "id": "407535dd"
      },
      "source": [
        "Determinar la ubicación de las rótulas plásticas generadas en la longitud libre de la viga, la cual es representada por el parámetro Sh distancia medida desde la cara de la columna a la rótula plástica. Se toma el menor valor de Sh"
      ]
    },
    {
      "cell_type": "markdown",
      "id": "de597f53",
      "metadata": {
        "id": "de597f53"
      },
      "source": [
        "$S_h=min(\\frac {d_b}2,3*b_{bf})$"
      ]
    },
    {
      "cell_type": "code",
      "execution_count": null,
      "id": "d397a4fa",
      "metadata": {
        "id": "d397a4fa"
      },
      "outputs": [],
      "source": [
        "M_uv=V_u*(S_h+d_c*0.5)\n",
        "M_pb=(1.1*Ryb*Fyb*Zxb)+M_uv"
      ]
    },
    {
      "cell_type": "markdown",
      "id": "f4ea6ad3",
      "metadata": {
        "id": "f4ea6ad3"
      },
      "source": [
        "## Paso 4 Jerarquia de plastificacion segun F.3.7.3.4 NSR-10"
      ]
    },
    {
      "cell_type": "markdown",
      "id": "9c28dd79",
      "metadata": {
        "id": "9c28dd79"
      },
      "source": [
        "Calcular Vp en la ubicación de la rótula plástica, Sh, de acuerdo al procedimiento de la sección 1.5.3,"
      ]
    },
    {
      "cell_type": "markdown",
      "id": "e11cae6a",
      "metadata": {
        "id": "e11cae6a"
      },
      "source": [
        "$V_p=V_u=\\frac{2*M_{pr}}{L_h}+\\frac{W_{lh}}2$"
      ]
    },
    {
      "cell_type": "markdown",
      "id": "f911f86f",
      "metadata": {
        "id": "f911f86f"
      },
      "source": [
        "También corresponde a:"
      ]
    },
    {
      "cell_type": "markdown",
      "id": "6bf598c4",
      "metadata": {
        "id": "6bf598c4"
      },
      "source": [
        "$V_p=V_u=\\frac{2*M_{pr}}{L_h}+V_g$"
      ]
    },
    {
      "cell_type": "markdown",
      "id": "3ec37623",
      "metadata": {
        "id": "3ec37623"
      },
      "source": [
        "Donde:\n",
        "Vg = Fuerza de corte en la rótula plástica, debido a las cargas de gravedad\n",
        "mayoradas por la combinación 1.2(D+SD)+0.5L."
      ]
    },
    {
      "cell_type": "code",
      "execution_count": null,
      "id": "e6874ef1",
      "metadata": {
        "id": "e6874ef1"
      },
      "outputs": [],
      "source": [
        "Diagrama de Cortante y Momento de la combinación 1.2(D+SD)+0.5L"
      ]
    },
    {
      "cell_type": "markdown",
      "id": "5ebc9a80",
      "metadata": {
        "id": "5ebc9a80"
      },
      "source": [
        "<img src='Diagramas de cortante.PNG'>"
      ]
    },
    {
      "cell_type": "code",
      "execution_count": null,
      "id": "6c8d0d17",
      "metadata": {
        "id": "6c8d0d17"
      },
      "outputs": [],
      "source": [
        "V_c=(Mpr+V_u*(S_h+0.5*d_c))/H\n",
        "M_pc=2*(M_pcc+V_c*(d_b/2000))\n",
        "if M_pc/M_pb>=1.0:\n",
        "    print('No cumple relacion viga debil columna fuerte')\n",
        "else:\n",
        "    print('Cumple relacion viga debil columna fuerte')"
      ]
    },
    {
      "cell_type": "markdown",
      "id": "47b46cfe",
      "metadata": {
        "id": "47b46cfe"
      },
      "source": [
        "## Paso 5 calcular M_f"
      ]
    },
    {
      "cell_type": "markdown",
      "id": "c1f1d715",
      "metadata": {
        "id": "c1f1d715"
      },
      "source": [
        "$M^*_{pb}=(1.1*R_y*F_{yb}*Z_b)+M_p$"
      ]
    },
    {
      "cell_type": "markdown",
      "id": "6ebac7ff",
      "metadata": {
        "id": "6ebac7ff"
      },
      "source": []
    },
    {
      "cell_type": "code",
      "execution_count": null,
      "id": "5c1a578e",
      "metadata": {
        "id": "5c1a578e"
      },
      "outputs": [],
      "source": [
        "M_f=Mpr+V_u*S_h"
      ]
    },
    {
      "cell_type": "markdown",
      "id": "49908d06",
      "metadata": {
        "id": "49908d06"
      },
      "source": [
        "## Paso 6 Determinar el diametro del perno requerido d_breq"
      ]
    },
    {
      "cell_type": "markdown",
      "source": [],
      "metadata": {
        "id": "m1lNaTVPJhAM"
      },
      "id": "m1lNaTVPJhAM"
    },
    {
      "cell_type": "markdown",
      "id": "7c345bb0",
      "metadata": {
        "id": "7c345bb0"
      },
      "source": [
        "Realizar el planteamiento de la jerarquía de la plastificación como se describe en el capítulo F.3 sección F.3.7.3.4. de la NSR-10."
      ]
    },
    {
      "cell_type": "markdown",
      "id": "20ce98c5",
      "metadata": {
        "id": "20ce98c5"
      },
      "source": [
        "$\\frac {\\sum {i=1}^n*{M^*M_pcc}2$"
      ]
    },
    {
      "cell_type": "code",
      "execution_count": null,
      "id": "1a7db721",
      "metadata": {
        "id": "1a7db721"
      },
      "outputs": [],
      "source": [
        "d_breq=np.sqrt((2000*M_f)/(3.1416*0.9*F_nt*(h_0+h_1)))"
      ]
    },
    {
      "cell_type": "markdown",
      "id": "fe799c98",
      "metadata": {
        "id": "fe799c98"
      },
      "source": [
        "## Paso 7 Ir a linea 23 y ajustar el tamaño del perno al superior comercial"
      ]
    },
    {
      "cell_type": "markdown",
      "id": "ddf4dec1",
      "metadata": {
        "id": "ddf4dec1"
      },
      "source": [
        "## Paso 8 Determinar el epesor del end plate"
      ]
    },
    {
      "cell_type": "code",
      "execution_count": null,
      "id": "642eb247",
      "metadata": {
        "id": "642eb247"
      },
      "outputs": [],
      "source": [
        "s=1/2*np.sqrt(b_p*g)\n",
        "\n",
        "Y_p=0.5*b_p*(h_1*(1/P_fi+1/s)+h_0*(1/P_fio)-1/2)+2/g*(h_1*(P_fi+s))\n",
        "\n",
        "tp_req=np.sqrt(1.11*M_f*1000/(1*F_yp*Y_p))"
      ]
    },
    {
      "cell_type": "markdown",
      "id": "dffc69e6",
      "metadata": {
        "id": "dffc69e6"
      },
      "source": [
        "## Paso 9 Selección de un grosor de la placa terminal, tp no inferior al calculado"
      ]
    },
    {
      "cell_type": "markdown",
      "source": [
        "\n",
        "\n",
        "*   Elemento de la lista\n",
        "*   Elemento de la lista\n",
        "\n"
      ],
      "metadata": {
        "id": "KDOua__2KtHE"
      },
      "id": "KDOua__2KtHE"
    },
    {
      "cell_type": "markdown",
      "id": "ad774381",
      "metadata": {
        "id": "ad774381"
      },
      "source": [
        "## Paso 10 Calcular F_fu, que es la fuerza del ala de la viga."
      ]
    },
    {
      "cell_type": "code",
      "execution_count": null,
      "id": "c6ad98df",
      "metadata": {
        "id": "c6ad98df"
      },
      "outputs": [],
      "source": [
        "F_fu=M_f/(d_b-t_fb)"
      ]
    },
    {
      "cell_type": "code",
      "source": [],
      "metadata": {
        "id": "ZYyZAGGzK61K"
      },
      "id": "ZYyZAGGzK61K",
      "execution_count": null,
      "outputs": []
    },
    {
      "cell_type": "markdown",
      "id": "38ee4e63",
      "metadata": {
        "id": "38ee4e63"
      },
      "source": [
        "## PASO 11: Verificar que la placa extrema no falle por fluencia o por corte:"
      ]
    },
    {
      "cell_type": "code",
      "execution_count": null,
      "id": "e90e2e9e",
      "metadata": {
        "id": "e90e2e9e"
      },
      "outputs": [],
      "source": [
        "R=F_fu/2\n",
        "if R<=(1.0*0.6*F_yp*b_p*t_p/1000):\n",
        "    print('El endplate resiste fluencia u corte')\n",
        "else:\n",
        "    print('La placa falle por fluencia o por corte ')"
      ]
    },
    {
      "cell_type": "markdown",
      "id": "692dd526",
      "metadata": {
        "id": "692dd526"
      },
      "source": [
        "## PASO 12: Comprobar la ruptura por corte de la conexión de cuatro pernos sin rigidizar (4E)."
      ]
    },
    {
      "cell_type": "code",
      "execution_count": null,
      "id": "2784d66a",
      "metadata": {
        "id": "2784d66a"
      },
      "outputs": [],
      "source": [
        "A_n=t_p*(b_p-2*(d_breqerido+3.0))\n",
        "\n",
        "phi_nR_n=0.9*0.6*F_up*A_n\n",
        "\n",
        "if R<=phi_nR_n:\n",
        "    print('La placa cumple por ruptura')\n",
        "else:\n",
        "    print('La placa falla por ruptura')"
      ]
    },
    {
      "cell_type": "markdown",
      "id": "3bfa9d5e",
      "metadata": {
        "id": "3bfa9d5e"
      },
      "source": [
        "## Paso 13: Revisar la ruptura por cortante del perno en la zona de compresión del ala de la viga."
      ]
    },
    {
      "cell_type": "code",
      "execution_count": null,
      "id": "3e7b6a66",
      "metadata": {
        "id": "3e7b6a66"
      },
      "outputs": [],
      "source": [
        "Ab=math.pi*d_breqerido**2/4\n",
        "Rn1=0.9*n_b*F_nv*Ab"
      ]
    },
    {
      "cell_type": "markdown",
      "id": "43e1bc9f",
      "metadata": {
        "id": "43e1bc9f"
      },
      "source": [
        "## Paso 14: Verificar el aplastamiento del perno y la falla por desgarre de la placa extrema y el\n",
        "## ala de la columna; en el ala de la columna se aplica solo aplastamiento del perno."
      ]
    },
    {
      "cell_type": "code",
      "execution_count": null,
      "id": "c7862030",
      "metadata": {
        "id": "c7862030"
      },
      "outputs": [],
      "source": [
        "L_ci=(P_fio+P_fi+t_fb)-(d_breqerido+3.2)\n",
        "r_ni1=1.2*L_ci*t_p*F_up\n",
        "r_ni2=2.4*d_breqerido*t_p*F_up\n",
        "\n",
        "L_c0=d_e-0.5*(d_breqerido+3.2)\n",
        "r_no1=1.2*L_c0*t_p*F_up\n",
        "r_no2=2.4*d_breqerido*t_p*F_up\n",
        "\n",
        "R_n0=0.9*2*r_no2+0.9*2*r_no1\n",
        "\n",
        "if V_u<=R_n0:\n",
        "    print('cumple aplastamiento en la placa de extermo')\n",
        "else:\n",
        "    print('no cumple aplastamiento en la placa de extermo')"
      ]
    },
    {
      "cell_type": "code",
      "source": [],
      "metadata": {
        "id": "Wjnw_VKcLRCx"
      },
      "id": "Wjnw_VKcLRCx",
      "execution_count": null,
      "outputs": []
    },
    {
      "cell_type": "markdown",
      "id": "c8210057",
      "metadata": {
        "id": "c8210057"
      },
      "source": [
        "\n",
        "## Calculo para el ala de la columna"
      ]
    },
    {
      "cell_type": "code",
      "execution_count": null,
      "id": "f69241da",
      "metadata": {
        "id": "f69241da"
      },
      "outputs": [],
      "source": [
        "\n",
        "r_ni3=2.4*d_breqerido*t_fc*F_uc\n",
        "\n",
        "r_no3=2.4*d_breqerido*t_fc*F_uc\n",
        "\n",
        "R_ncol=(0.9*n_i*r_ni3+0.9*n_0*r_no3)\n",
        "\n",
        "if V_u<=R_ncol:\n",
        "    print('cumple aplastamiento del perno')\n",
        "else:\n",
        "    print('no cumple aplastamiento del perno')\n"
      ]
    },
    {
      "cell_type": "code",
      "execution_count": null,
      "id": "020b2b9e",
      "metadata": {
        "id": "020b2b9e"
      },
      "outputs": [],
      "source": []
    }
  ],
  "metadata": {
    "kernelspec": {
      "display_name": "Python 3",
      "language": "python",
      "name": "python3"
    },
    "language_info": {
      "codemirror_mode": {
        "name": "ipython",
        "version": 3
      },
      "file_extension": ".py",
      "mimetype": "text/x-python",
      "name": "python",
      "nbconvert_exporter": "python",
      "pygments_lexer": "ipython3",
      "version": "3.8.8"
    },
    "colab": {
      "provenance": [],
      "toc_visible": true,
      "include_colab_link": true
    }
  },
  "nbformat": 4,
  "nbformat_minor": 5
}